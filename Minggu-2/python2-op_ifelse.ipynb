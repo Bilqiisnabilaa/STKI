{
 "cells": [
  {
   "cell_type": "code",
   "execution_count": null,
   "id": "4050f68f",
   "metadata": {},
   "outputs": [
    {
     "name": "stdout",
     "output_type": "stream",
     "text": [
      "20\n",
      "140718486869384\n"
     ]
    },
    {
     "name": "stdout",
     "output_type": "stream",
     "text": [
      "20\n",
      "140718486869384\n"
     ]
    }
   ],
   "source": [
    "a=20\n",
    "print(a)\n",
    "print(id(a))"
   ]
  },
  {
   "cell_type": "code",
   "execution_count": null,
   "id": "c0acb310",
   "metadata": {},
   "outputs": [
    {
     "name": "stdout",
     "output_type": "stream",
     "text": [
      "30\n",
      "140718486869704\n"
     ]
    }
   ],
   "source": [
    "a=30\n",
    "print(a)\n",
    "print(id(a))"
   ]
  },
  {
   "cell_type": "code",
   "execution_count": null,
   "id": "7e1fc39b",
   "metadata": {},
   "outputs": [
    {
     "name": "stdout",
     "output_type": "stream",
     "text": [
      "[1, 2, 3, 4]\n",
      "<class 'list'>\n",
      "1663523844032\n"
     ]
    }
   ],
   "source": [
    "a=[1,2,3,4]\n",
    "print(a)\n",
    "print(type(a))\n",
    "print(id(a))"
   ]
  },
  {
   "cell_type": "code",
   "execution_count": null,
   "id": "02adb385",
   "metadata": {},
   "outputs": [
    {
     "name": "stdout",
     "output_type": "stream",
     "text": [
      "[0, 2, 3, 4]\n",
      "1663523844032\n"
     ]
    }
   ],
   "source": [
    "a[0]=0\n",
    "print(a)\n",
    "print(id(a))"
   ]
  },
  {
   "cell_type": "code",
   "execution_count": null,
   "id": "89f31b12",
   "metadata": {},
   "outputs": [
    {
     "ename": "KeyboardInterrupt",
     "evalue": "Interrupted by user",
     "output_type": "error",
     "traceback": [
      "\u001b[31m---------------------------------------------------------------------------\u001b[39m",
      "\u001b[31mKeyboardInterrupt\u001b[39m                         Traceback (most recent call last)",
      "\u001b[36mCell\u001b[39m\u001b[36m \u001b[39m\u001b[32mIn[19]\u001b[39m\u001b[32m, line 1\u001b[39m\n\u001b[32m----> \u001b[39m\u001b[32m1\u001b[39m a = \u001b[38;5;28mint\u001b[39m(\u001b[38;5;28;43minput\u001b[39;49m\u001b[43m(\u001b[49m\u001b[33;43m\"\u001b[39;49m\u001b[33;43mSample input: \u001b[39;49m\u001b[33;43m\"\u001b[39;49m\u001b[43m)\u001b[49m)\n\u001b[32m      2\u001b[39m \u001b[38;5;28mprint\u001b[39m(\u001b[33m\"\u001b[39m\u001b[33mExpected output:\u001b[39m\u001b[33m\"\u001b[39m, a >= \u001b[32m100\u001b[39m)\n",
      "\u001b[36mFile \u001b[39m\u001b[32me:\\CobaPython\\env\\Lib\\site-packages\\ipykernel\\kernelbase.py:1275\u001b[39m, in \u001b[36mKernel.raw_input\u001b[39m\u001b[34m(self, prompt)\u001b[39m\n\u001b[32m   1273\u001b[39m     msg = \u001b[33m\"\u001b[39m\u001b[33mraw_input was called, but this frontend does not support input requests.\u001b[39m\u001b[33m\"\u001b[39m\n\u001b[32m   1274\u001b[39m     \u001b[38;5;28;01mraise\u001b[39;00m StdinNotImplementedError(msg)\n\u001b[32m-> \u001b[39m\u001b[32m1275\u001b[39m \u001b[38;5;28;01mreturn\u001b[39;00m \u001b[38;5;28;43mself\u001b[39;49m\u001b[43m.\u001b[49m\u001b[43m_input_request\u001b[49m\u001b[43m(\u001b[49m\n\u001b[32m   1276\u001b[39m \u001b[43m    \u001b[49m\u001b[38;5;28;43mstr\u001b[39;49m\u001b[43m(\u001b[49m\u001b[43mprompt\u001b[49m\u001b[43m)\u001b[49m\u001b[43m,\u001b[49m\n\u001b[32m   1277\u001b[39m \u001b[43m    \u001b[49m\u001b[38;5;28;43mself\u001b[39;49m\u001b[43m.\u001b[49m\u001b[43m_parent_ident\u001b[49m\u001b[43m[\u001b[49m\u001b[33;43m\"\u001b[39;49m\u001b[33;43mshell\u001b[39;49m\u001b[33;43m\"\u001b[39;49m\u001b[43m]\u001b[49m\u001b[43m,\u001b[49m\n\u001b[32m   1278\u001b[39m \u001b[43m    \u001b[49m\u001b[38;5;28;43mself\u001b[39;49m\u001b[43m.\u001b[49m\u001b[43mget_parent\u001b[49m\u001b[43m(\u001b[49m\u001b[33;43m\"\u001b[39;49m\u001b[33;43mshell\u001b[39;49m\u001b[33;43m\"\u001b[39;49m\u001b[43m)\u001b[49m\u001b[43m,\u001b[49m\n\u001b[32m   1279\u001b[39m \u001b[43m    \u001b[49m\u001b[43mpassword\u001b[49m\u001b[43m=\u001b[49m\u001b[38;5;28;43;01mFalse\u001b[39;49;00m\u001b[43m,\u001b[49m\n\u001b[32m   1280\u001b[39m \u001b[43m\u001b[49m\u001b[43m)\u001b[49m\n",
      "\u001b[36mFile \u001b[39m\u001b[32me:\\CobaPython\\env\\Lib\\site-packages\\ipykernel\\kernelbase.py:1320\u001b[39m, in \u001b[36mKernel._input_request\u001b[39m\u001b[34m(self, prompt, ident, parent, password)\u001b[39m\n\u001b[32m   1317\u001b[39m \u001b[38;5;28;01mexcept\u001b[39;00m \u001b[38;5;167;01mKeyboardInterrupt\u001b[39;00m:\n\u001b[32m   1318\u001b[39m     \u001b[38;5;66;03m# re-raise KeyboardInterrupt, to truncate traceback\u001b[39;00m\n\u001b[32m   1319\u001b[39m     msg = \u001b[33m\"\u001b[39m\u001b[33mInterrupted by user\u001b[39m\u001b[33m\"\u001b[39m\n\u001b[32m-> \u001b[39m\u001b[32m1320\u001b[39m     \u001b[38;5;28;01mraise\u001b[39;00m \u001b[38;5;167;01mKeyboardInterrupt\u001b[39;00m(msg) \u001b[38;5;28;01mfrom\u001b[39;00m\u001b[38;5;250m \u001b[39m\u001b[38;5;28;01mNone\u001b[39;00m\n\u001b[32m   1321\u001b[39m \u001b[38;5;28;01mexcept\u001b[39;00m \u001b[38;5;167;01mException\u001b[39;00m:\n\u001b[32m   1322\u001b[39m     \u001b[38;5;28mself\u001b[39m.log.warning(\u001b[33m\"\u001b[39m\u001b[33mInvalid Message:\u001b[39m\u001b[33m\"\u001b[39m, exc_info=\u001b[38;5;28;01mTrue\u001b[39;00m)\n",
      "\u001b[31mKeyboardInterrupt\u001b[39m: Interrupted by user"
     ]
    }
   ],
   "source": [
    "a = int(input(\"Sample input: \"))\n",
    "print(\"Expected output:\", a >= 100)"
   ]
  },
  {
   "cell_type": "code",
   "execution_count": null,
   "id": "4541e30b",
   "metadata": {},
   "outputs": [
    {
     "name": "stdout",
     "output_type": "stream",
     "text": [
      "11.0\n"
     ]
    }
   ],
   "source": [
    "x = 5 + 2 * 3 / (2 - 3) ** 2\n",
    "print(x)"
   ]
  },
  {
   "cell_type": "code",
   "execution_count": null,
   "id": "4919f818",
   "metadata": {},
   "outputs": [],
   "source": [
    "a = 5\n",
    "b = 6\n",
    "\n",
    "if a==b:\n",
    "    print(\"oke\")\n",
    "    print(\"berhasil\")\n",
    "    print(\"Gagal\")"
   ]
  },
  {
   "cell_type": "code",
   "execution_count": null,
   "id": "7645f4cb",
   "metadata": {},
   "outputs": [],
   "source": [
    "a = 5\n",
    "b = 6\n",
    "\n",
    "if a==b:\n",
    "    print(\"oke\")\n",
    "    print(\"berhasil\")\n",
    "else:\n",
    "    print(\"Gagal\")"
   ]
  },
  {
   "cell_type": "code",
   "execution_count": null,
   "id": "ee1ee8be",
   "metadata": {},
   "outputs": [],
   "source": [
    "bil = int(input(\"8\"))\n",
    "\n",
    "if(bil%2 == 0):\n",
    "    print(\"genap\")\n",
    "else:\n",
    "    print(\"ganjil\")"
   ]
  },
  {
   "cell_type": "code",
   "execution_count": null,
   "id": "b2f0fcbe",
   "metadata": {},
   "outputs": [],
   "source": [
    "print(\"Masukan nilai koordinat\")\n",
    "x = int(input(\"Nilai x: 2 \"))\n",
    "y = int(input(\"Nilai y: 4 \"))\n",
    "\n",
    "if x>0 and y>0:\n",
    "    print(\"Koordinat (\"+ str(x) + \",\"+ str(y) +\") berada pada Kuadran I\" )\n",
    "elif x<0 and y>0:\n",
    "    print(\"Koordinat (\"+ str(x) + \",\"+ str(y) +\") berada pada Kuadran II\" )    \n",
    "elif x<0 and y<0:\n",
    "    print(\"Koordinat (\"+ str(x) + \",\"+ str(y) +\") berada pada Kuadran III\" )\n",
    "elif x>0 and y<0:\n",
    "    print(\"Koordinat (\"+ str(x) + \",\"+ str(y) +\") berada pada Kuadran IV\" )\n",
    "else:\n",
    "    pass"
   ]
  },
  {
   "cell_type": "code",
   "execution_count": null,
   "id": "977aa517",
   "metadata": {},
   "outputs": [],
   "source": [
    "num1 = int(input(\"First Number : \"))\n",
    "num2 = int(input(\"Second Number : \"))\n",
    "num3 = int(input(\"Third Number : \"))\n",
    "\n",
    "#set number1 sebagai yang terbesar\n",
    "largestNum = num1\n",
    "\n",
    "#deteksi apakah num2 > num1\n",
    "if num2 > largestNum:\n",
    "    largestNum = num2\n",
    "\n",
    "#deteksi apakah num3 > num2\n",
    "if num3 > largestNum:\n",
    "    largestNum = num3\n",
    "\n",
    "print(\"The largest number is: \", largestNum)"
   ]
  },
  {
   "cell_type": "code",
   "execution_count": null,
   "id": "f59fa606",
   "metadata": {},
   "outputs": [],
   "source": [
    "plant = input(\"Please input a best plant = \")\n",
    "\n",
    "if plant == \"Spathiphyllum\":\n",
    "    print(\"Yes - Spathiphyllum is the best plant ever!\")\n",
    "elif plant == \"spathiphyllum\":\n",
    "    print(\"No, I want a big Spathiphyllum!\")\n",
    "else:\n",
    "    print(\"Spathiphyllum! Not \"+ plant +\"!\")"
   ]
  },
  {
   "cell_type": "code",
   "execution_count": null,
   "id": "3bc8ee89",
   "metadata": {},
   "outputs": [],
   "source": [
    "income = float(input(\"Enter the annual income: \"))\n",
    "tax = 0\n",
    "\n",
    "if income<85528:\n",
    "    tax = 0.18 * income - 556.2\n",
    "else:\n",
    "    tax = 14839 + 0.2 + 0.32 * (income - 85528)\n",
    "\n",
    "tax = round(tax, 0)\n",
    "\n",
    "if tax<0:\n",
    "    tax = 0\n",
    "\n",
    "print(\"The tax is:\", tax, \"thalers\")"
   ]
  },
  {
   "cell_type": "code",
   "execution_count": null,
   "id": "93d82b73",
   "metadata": {},
   "outputs": [],
   "source": [
    "year = int(input(\"Enter a year: \"))\n",
    "\n",
    "if year < 1582:\n",
    "    print(\"Not within the Gregorian calender period\")\n",
    "else :\n",
    "    if year % 4 !=0 :\n",
    "        print(\"common year\")\n",
    "    elif year % 100 !=0:\n",
    "        print (\"leap year\")\n",
    "    elif year % 400 !=0:\n",
    "        print(\"common year\")\n",
    "    else : \n",
    "        print(\"leap year\")"
   ]
  },
  {
   "cell_type": "code",
   "execution_count": null,
   "id": "45a62e1f",
   "metadata": {},
   "outputs": [],
   "source": [
    "x = 5\n",
    "y = 10\n",
    "z = 8\n",
    "\n",
    "print(x > y)\n",
    "print(y > z)"
   ]
  },
  {
   "cell_type": "code",
   "execution_count": null,
   "id": "73f56aed",
   "metadata": {},
   "outputs": [],
   "source": [
    "x, y, z = 5, 10, 8\n",
    "\n",
    "print(x > z)\n",
    "print((y - 5) == x)"
   ]
  },
  {
   "cell_type": "code",
   "execution_count": null,
   "id": "4e4ddb4d",
   "metadata": {},
   "outputs": [],
   "source": [
    "x, y, z = 5, 10, 8\n",
    "x, y, z = z, y, x\n",
    "\n",
    "print(x > z)\n",
    "print((y - 5) == x)"
   ]
  },
  {
   "cell_type": "code",
   "execution_count": null,
   "id": "4500b3a5",
   "metadata": {},
   "outputs": [],
   "source": [
    "x = 10\n",
    "\n",
    "if x == 10:\n",
    "    print(x == 10)\n",
    "\n",
    "if x > 5:\n",
    "    print(x > 5)\n",
    "\n",
    "if x < 10:\n",
    "    print(x < 10)\n",
    "else:\n",
    "    print(\"else\")"
   ]
  },
  {
   "cell_type": "code",
   "execution_count": null,
   "id": "8b8a1b65",
   "metadata": {},
   "outputs": [],
   "source": [
    "x = \"1\"\n",
    "\n",
    "if x == 1:\n",
    "    print(\"one\")\n",
    "elif x == \"1\":\n",
    "    if int(x) > 1:\n",
    "        print(\"two\")\n",
    "    elif int(x) < 1:\n",
    "        print(\"three\")\n",
    "    else:\n",
    "        print(\"four\")\n",
    "        \n",
    "if int(x) == 1:\n",
    "    print(\"five\")\n",
    "else:\n",
    "    print(\"six\")"
   ]
  },
  {
   "cell_type": "code",
   "execution_count": null,
   "id": "063f3b75",
   "metadata": {},
   "outputs": [],
   "source": [
    "x = 1\n",
    "y = 1.0\n",
    "z = \"1\"\n",
    "\n",
    "if x == y:\n",
    "    print(\"one\")\n",
    "if y == z:\n",
    "    print(\"two\")\n",
    "    print(x)\n",
    "    print(y)\n",
    "elif x == y:\n",
    "    print(\"three\")\n",
    "else:\n",
    "    print(\"four\")"
   ]
  },
  {
   "cell_type": "code",
   "execution_count": null,
   "id": "ccb37ea3",
   "metadata": {},
   "outputs": [],
   "source": [
    "i = 1\n",
    "\n",
    "while i<10:\n",
    "    print(i**2)\n",
    "    i = i+2"
   ]
  },
  {
   "cell_type": "code",
   "execution_count": null,
   "id": "8c6ff7aa",
   "metadata": {},
   "outputs": [],
   "source": [
    "secretNum = 777\n",
    "\n",
    "guessNum = 0\n",
    "\n",
    "while guessNum != secretNum:\n",
    "    guessNum = int(input(\"Input angka rahasia untuk berhenti : \"))\n",
    "    if guessNum != secretNum:\n",
    "        print(\"Perulangan akan terus lanjut...\")\n",
    "\n",
    "print(\"Well done, Congrats...\")"
   ]
  },
  {
   "cell_type": "code",
   "execution_count": null,
   "id": "c0aa17d5",
   "metadata": {},
   "outputs": [],
   "source": [
    "for i in range(5):\n",
    "    print(i)"
   ]
  },
  {
   "cell_type": "code",
   "execution_count": null,
   "id": "dda35d96",
   "metadata": {},
   "outputs": [],
   "source": [
    "for i in range(2,8):\n",
    "    print(i)"
   ]
  },
  {
   "cell_type": "code",
   "execution_count": null,
   "id": "6989f6e1",
   "metadata": {},
   "outputs": [],
   "source": [
    "for i in range(2,18,3):\n",
    "    print(i)"
   ]
  },
  {
   "cell_type": "code",
   "execution_count": null,
   "id": "da553608",
   "metadata": {},
   "outputs": [],
   "source": [
    "for i in range(5):\n",
    "    print(i)\n",
    "else:\n",
    "    print(\"masuk else\")"
   ]
  },
  {
   "cell_type": "code",
   "execution_count": null,
   "id": "0865d47c",
   "metadata": {},
   "outputs": [],
   "source": [
    "import time\n",
    "\n",
    "for i in range(5):\n",
    "    print(i,\" Missisipi\")\n",
    "    time.sleep(1)"
   ]
  },
  {
   "cell_type": "code",
   "execution_count": null,
   "id": "bd91e173",
   "metadata": {},
   "outputs": [],
   "source": [
    "for i in range (11):\n",
    "    print(i, end=\" \")\n",
    "    if i==7:\n",
    "        print(\" masih dalam for\")\n",
    "        break"
   ]
  },
  {
   "cell_type": "code",
   "execution_count": null,
   "id": "42f2ce81",
   "metadata": {},
   "outputs": [],
   "source": [
    "# break - example\n",
    "\n",
    "print(\"The break instruction:\")\n",
    "for i in range(1, 6):\n",
    "    if i == 3:\n",
    "        break\n",
    "    print(\"Inside the loop.\", i)\n",
    "print(\"Outside the loop.\")"
   ]
  },
  {
   "cell_type": "code",
   "execution_count": null,
   "id": "d89af344",
   "metadata": {},
   "outputs": [],
   "source": [
    "largestNumber = -99999999\n",
    "counter = 0\n",
    "\n",
    "while True:\n",
    "    number = int(input(\"Enter a number or type -1 to end program: \"))\n",
    "    if number == -1:\n",
    "        break\n",
    "    counter += 1\n",
    "    if number > largestNumber:\n",
    "        largestNumber = number\n",
    "\n",
    "if counter != 0:\n",
    "    print(\"The largest number is\", largestNumber)\n",
    "else:\n",
    "    print(\"You haven't entered any number.\")"
   ]
  },
  {
   "cell_type": "code",
   "execution_count": null,
   "id": "891c317d",
   "metadata": {},
   "outputs": [],
   "source": [
    "for i in range (1,11):\n",
    "    if i % 2 ==0:\n",
    "        continue\n",
    "    print(i, end=\"\\t\")"
   ]
  },
  {
   "cell_type": "code",
   "execution_count": null,
   "id": "160c5957",
   "metadata": {},
   "outputs": [],
   "source": [
    "for i in range (1,11):\n",
    "    if i % 2 ==0:\n",
    "        print(i)"
   ]
  },
  {
   "cell_type": "code",
   "execution_count": null,
   "id": "7b475470",
   "metadata": {},
   "outputs": [],
   "source": [
    "# continue - example\n",
    "\n",
    "print(\"\\nThe continue instruction:\")\n",
    "for i in range(1, 6):\n",
    "    if i == 3:\n",
    "        continue\n",
    "    print(\"Inside the loop.\", i)\n",
    "print(\"Outside the loop.\")"
   ]
  },
  {
   "cell_type": "code",
   "execution_count": null,
   "id": "4340f655",
   "metadata": {},
   "outputs": [],
   "source": [
    "largestNumber = -99999999\n",
    "counter = 0\n",
    "\n",
    "number = int(input(\"Enter a number or type -1 to end program: \"))\n",
    "\n",
    "while number != -1:\n",
    "    if number == -1:\n",
    "        continue\n",
    "    counter += 1\n",
    "\n",
    "    if number > largestNumber:\n",
    "        largestNumber = number\n",
    "    number = int(input(\"Enter a number or type -1 to end program: \"))\n",
    "\n",
    "if counter:\n",
    "    print(\"The largest number is\", largestNumber)\n",
    "else:\n",
    "    print(\"You haven't entered any number.\")"
   ]
  },
  {
   "cell_type": "code",
   "execution_count": null,
   "id": "bd9e640d",
   "metadata": {},
   "outputs": [],
   "source": [
    "while True:\n",
    "    word = input(\"Masukkan Sebuah Kata untuk keluar dari perulangan = \")\n",
    "    if(word==\"chupacabra\"):\n",
    "        break\n",
    "        \n",
    "print(\"You've successfully left the loop\")"
   ]
  },
  {
   "cell_type": "code",
   "execution_count": null,
   "id": "8a51e971",
   "metadata": {},
   "outputs": [],
   "source": [
    "# Prompt the user to enter a word\n",
    "# and assign it to the userWord variable.\n",
    "userWord = input(\"Masukkan sebuah kata = \")\n",
    "\n",
    "for letter in userWord:\n",
    "    if letter.upper() in ['A','I','U','E','O']:\n",
    "        continue\n",
    "    \n",
    "    print(letter.upper())"
   ]
  },
  {
   "cell_type": "code",
   "execution_count": null,
   "id": "1c4b1849",
   "metadata": {},
   "outputs": [],
   "source": [
    "blocks = int(input(\"Enter the number of blocks: \"))\n",
    "current_block = 0\n",
    "height = 0\n",
    "i=0\n",
    "\n",
    "while i<blocks:\n",
    "    height += 1\n",
    "    current_block += height\n",
    "    # print(i,current_block)\n",
    "    if current_block> blocks:\n",
    "        break\n",
    "\n",
    "height -= 1\n",
    "\n",
    "print(\"The height of the pyramid:\", height)"
   ]
  },
  {
   "cell_type": "code",
   "execution_count": null,
   "id": "457b7afe",
   "metadata": {},
   "outputs": [],
   "source": [
    "for i in range(1, 11):\n",
    "    if i % 2 !=0:\n",
    "        print(i,end=' ')"
   ]
  },
  {
   "cell_type": "code",
   "execution_count": null,
   "id": "c49cfe86",
   "metadata": {},
   "outputs": [],
   "source": [
    "x=1\n",
    "while x<11:\n",
    "    if x % 2 !=0:\n",
    "        print(x,end=' ')\n",
    "    x +=1"
   ]
  },
  {
   "cell_type": "code",
   "execution_count": null,
   "id": "ff6a9a91",
   "metadata": {},
   "outputs": [],
   "source": [
    "for ch in \"ratna.lestari@ugm.ac.id\":\n",
    "    if ch == \"@\":\n",
    "        break\n",
    "    print(ch,end=' ')"
   ]
  },
  {
   "cell_type": "code",
   "execution_count": null,
   "id": "9dcdd903",
   "metadata": {},
   "outputs": [],
   "source": [
    "for digit in \"0165031806510\":\n",
    "    if digit == \"0\": \n",
    "        print (\"x\")\n",
    "        continue\n",
    "    print(digit)"
   ]
  },
  {
   "cell_type": "code",
   "execution_count": null,
   "id": "0f545bdc",
   "metadata": {},
   "outputs": [],
   "source": [
    "n = 3\n",
    "\n",
    "while n > 0:\n",
    "    print(n + 1)\n",
    "    n -= 1\n",
    "else:\n",
    "    print(n) "
   ]
  },
  {
   "cell_type": "code",
   "execution_count": null,
   "id": "bffd20a2",
   "metadata": {},
   "outputs": [],
   "source": [
    "n = range(4)\n",
    "\n",
    "for num in n:\n",
    "    print(num - 1)\n",
    "else:\n",
    "    print(num)"
   ]
  },
  {
   "cell_type": "code",
   "execution_count": null,
   "id": "31e5d4f8",
   "metadata": {},
   "outputs": [],
   "source": [
    "for i in range(0, 6, 3):\n",
    "    print(i)"
   ]
  },
  {
   "cell_type": "code",
   "execution_count": null,
   "id": "1892c600",
   "metadata": {},
   "outputs": [],
   "source": [
    "x = 1\n",
    "y = 0\n",
    "\n",
    "z = ((x == y) and (x == y)) or not(x == y)\n",
    "print(not(z))"
   ]
  },
  {
   "cell_type": "code",
   "execution_count": null,
   "id": "ded49177",
   "metadata": {},
   "outputs": [],
   "source": [
    "var1=1\n",
    "var2=2\n",
    "var3=3\n",
    "var4=4\n",
    "var5=5\n",
    "\n",
    "#bandingkan\n",
    "\n",
    "var=[1,2,3,4,5]\n",
    "print(var)"
   ]
  },
  {
   "cell_type": "code",
   "execution_count": null,
   "id": "4776f6c3",
   "metadata": {},
   "outputs": [],
   "source": [
    "num = [2,3,4,5]\n",
    "print(num)\n",
    "print(num[2])\n",
    "print(num[-1])"
   ]
  },
  {
   "cell_type": "code",
   "execution_count": null,
   "id": "0c14d1ac",
   "metadata": {},
   "outputs": [],
   "source": [
    "lst = [100,200,300,400,500]\n",
    "print(lst[-1])\n",
    "print(lst[-2])\n",
    "print(lst[-5])\n",
    "\n",
    "print(\"\\n\")\n",
    "print(lst[4])\n",
    "print(lst[3])\n",
    "print(lst[0])"
   ]
  },
  {
   "cell_type": "code",
   "execution_count": null,
   "id": "4959c6ab",
   "metadata": {},
   "outputs": [],
   "source": [
    "lst=[4,1,6,9,10,8]\n",
    "\n",
    "print(lst[0:3])\n",
    "print(lst[1:3])\n",
    "\n",
    "print(lst[-3:])\n",
    "print(lst[:-3])\n",
    "\n",
    "print(lst[:])"
   ]
  },
  {
   "cell_type": "code",
   "execution_count": null,
   "id": "a5e72ddd",
   "metadata": {},
   "outputs": [],
   "source": [
    "num=[2,3,4]\n",
    "num[0],num[1] = num[1], num[0]\n",
    "print(num)"
   ]
  },
  {
   "cell_type": "code",
   "execution_count": null,
   "id": "5e5460cd",
   "metadata": {},
   "outputs": [],
   "source": [
    "myList = [8, 10, 6, 2, 4] # list to sort\n",
    "swapped = True # it's a little fake - we need it to enter the while loop\n",
    "\n",
    "while swapped:\n",
    "    swapped = False # no swaps so far\n",
    "    for i in range(len(myList) - 1):\n",
    "        if myList[i] > myList[i + 1]:\n",
    "            swapped = True # swap occured!\n",
    "            myList[i], myList[i + 1] = myList[i + 1], myList[i]\n",
    "\n",
    "print(myList)"
   ]
  },
  {
   "cell_type": "code",
   "execution_count": null,
   "id": "a88a7cb8",
   "metadata": {},
   "outputs": [],
   "source": [
    "hatList = [1, 2, 3, 4, 5]  # This is an existing list of numbers hidden in the hat.\n",
    "\n",
    "# Step 1: write a line of code that prompts the user\n",
    "# to replace the middle number with an integer number entered by the user.\n",
    "\n",
    "# Step 2: write a line of code here that removes the last element from the list.\n",
    "\n",
    "# Step 3: write a line of code here that prints the length of the existing list.\n",
    "\n",
    "print(hatList)"
   ]
  },
  {
   "cell_type": "code",
   "execution_count": null,
   "id": "35677f3e",
   "metadata": {},
   "outputs": [],
   "source": [
    "buah=[\"Salak\",\"Mangga\",\"Apel\"]\n",
    "buah.append(\"Jeruk\")\n",
    "print(buah)"
   ]
  },
  {
   "cell_type": "code",
   "execution_count": null,
   "id": "f97d4229",
   "metadata": {},
   "outputs": [],
   "source": [
    "myList = [] # creating an empty list\n",
    "\n",
    "for i in range(5):\n",
    "    myList.append(i + 1)\n",
    "\n",
    "print(myList)"
   ]
  },
  {
   "cell_type": "code",
   "execution_count": null,
   "id": "345cefaa",
   "metadata": {},
   "outputs": [],
   "source": [
    "buah = [\"durian\", \"mangga\", \"apel\"]\n",
    "buah.insert(1,\"kiwi\")\n",
    "print (buah)"
   ]
  },
  {
   "cell_type": "code",
   "execution_count": null,
   "id": "ffb2d22a",
   "metadata": {},
   "outputs": [],
   "source": [
    "numbers = [111, 7, 2, 1]\n",
    "print(len(numbers))\n",
    "print(numbers)\n",
    "\n",
    "###\n",
    "\n",
    "numbers.append(4)\n",
    "\n",
    "print(len(numbers))\n",
    "print(numbers)\n",
    "\n",
    "###\n",
    "\n",
    "numbers.insert(0, 222)\n",
    "print(len(numbers))\n",
    "print(numbers)\n",
    "\n",
    "#"
   ]
  },
  {
   "cell_type": "code",
   "execution_count": null,
   "id": "f7d09c37",
   "metadata": {},
   "outputs": [],
   "source": [
    "num = [5,4,3,2,1]\n",
    "\n",
    "del num[1]\n",
    "print(num)"
   ]
  },
  {
   "cell_type": "code",
   "execution_count": null,
   "id": "fb80d627",
   "metadata": {},
   "outputs": [],
   "source": [
    "# step 1\n",
    "beatles = []\n",
    "print(\"Step 1:\", beatles)\n",
    "\n",
    "# step 2\n",
    "beatles.append(\"John Lennon\")\n",
    "beatles.append(\"Paul McCartney\")\n",
    "beatles.append(\"George Harrison\")\n",
    "print(\"Step 2:\", beatles)\n",
    "\n",
    "# step 3\n",
    "for i in range(2):\n",
    "    nama = input(\"Masukkan anggota baru = \")\n",
    "    beatles.append(nama)\n",
    "print(\"Step 3:\", beatles)\n",
    "\n",
    "# step 4\n",
    "del beatles[-2:]\n",
    "print(\"Step 4:\", beatles)\n",
    "\n",
    "# step 5\n",
    "beatles.insert(0,\"Ringo Starr\")\n",
    "print(\"Step 5:\", beatles)\n",
    "\n",
    "\n",
    "# testing list legth\n",
    "print(\"The Fab\", len(beatles))"
   ]
  },
  {
   "cell_type": "code",
   "execution_count": null,
   "id": "e58de272",
   "metadata": {},
   "outputs": [],
   "source": [
    "lst = [5, 1, 3, 2, 10]\n",
    "print(lst)\n",
    "lst.sort()\n",
    "print(lst)\n",
    "lst.reverse()\n",
    "print(lst)"
   ]
  },
  {
   "cell_type": "code",
   "execution_count": null,
   "id": "a4705faa",
   "metadata": {},
   "outputs": [],
   "source": [
    "vehiclesOne = ['car', 'bicycle', 'motor']\n",
    "print(vehiclesOne) # outputs: ['car', 'bicycle', 'motor']\n",
    "\n",
    "vehiclesTwo = vehiclesOne\n",
    "del vehiclesOne[0] # deletes 'car'\n",
    "print(vehiclesTwo) # outputs: ['bicycle', 'motor']\n",
    "print(vehiclesOne)"
   ]
  },
  {
   "cell_type": "code",
   "execution_count": null,
   "id": "3a30a39b",
   "metadata": {},
   "outputs": [],
   "source": [
    "vehiclesOne = ['car', 'bicycle', 'motor']\n",
    "print(vehiclesOne) # outputs: ['car', 'bicycle', 'motor']\n",
    "\n",
    "vehiclesTwo = vehiclesOne[:]\n",
    "del vehiclesOne[0] # deletes 'car'\n",
    "print(vehiclesTwo) # outputs: ['bicycle', 'motor']\n",
    "print(vehiclesOne)"
   ]
  },
  {
   "cell_type": "code",
   "execution_count": null,
   "id": "562faf20",
   "metadata": {},
   "outputs": [],
   "source": [
    "nama = [\"Ana\",\"Budi\",\"Citra\"]\n",
    "kata_kunci = \"Budi\"\n",
    "\n",
    "print(kata_kunci not in nama)\n",
    "\n",
    "if kata_kunci in nama:\n",
    "    print(\"Nama \"+kata_kunci+\" ada di list\")"
   ]
  },
  {
   "cell_type": "code",
   "execution_count": null,
   "id": "e3c47488",
   "metadata": {},
   "outputs": [],
   "source": [
    "for i in range(10):\n",
    "    print(i, end=\" \")\n",
    "    \n",
    "print()\n",
    "for i in range(1,7):\n",
    "    print(i, end=\" \")\n",
    "    \n",
    "print()\n",
    "for i in range(1,10,2):\n",
    "    print(i, end=\" \")\n",
    "    \n",
    "print()\n",
    "for i in range(10,-10,-2):\n",
    "    print(i, end=\" \")"
   ]
  },
  {
   "cell_type": "code",
   "execution_count": null,
   "id": "f0d94594",
   "metadata": {},
   "outputs": [],
   "source": [
    "for i in range(1, 11):\n",
    "    if i%2 != 0:\n",
    "        print(i, end=\" \")"
   ]
  },
  {
   "cell_type": "code",
   "execution_count": null,
   "id": "3c88a454",
   "metadata": {},
   "outputs": [],
   "source": [
    "x = 1\n",
    "while x < 11:\n",
    "    if x%2!=0:\n",
    "        print(x, end=\" \")\n",
    "    x += 1"
   ]
  },
  {
   "cell_type": "code",
   "execution_count": null,
   "id": "acc2c24a",
   "metadata": {},
   "outputs": [],
   "source": [
    "for ch in \"john.smith@pythoninstitute.org\":\n",
    "    if ch == \"@\":\n",
    "        break\n",
    "    print(ch,end=\"\")"
   ]
  },
  {
   "cell_type": "code",
   "execution_count": null,
   "id": "42befaf0",
   "metadata": {},
   "outputs": [],
   "source": [
    "for digit in \"0165031806510\":\n",
    "    if digit == \"0\":\n",
    "        print(\"x\",end=\"\")\n",
    "        continue\n",
    "    print(digit,end=\"\")"
   ]
  },
  {
   "cell_type": "code",
   "execution_count": null,
   "id": "7b30d232",
   "metadata": {},
   "outputs": [],
   "source": [
    "myList = [10, 1, 8, 3, 5]\n",
    "total = 0\n",
    "\n",
    "for i in range(len(myList)):\n",
    "    total += myList[i]\n",
    "\n",
    "print(total)"
   ]
  },
  {
   "cell_type": "code",
   "execution_count": null,
   "id": "2880ff6d",
   "metadata": {},
   "outputs": [],
   "source": [
    "#squares = [x ** 2 for x in range(10)]\n",
    "#print (squares)\n",
    "\n",
    "squares = []\n",
    "for x in range(10):\n",
    "    squares.append(x ** 2)\n",
    "print(squares)"
   ]
  },
  {
   "cell_type": "code",
   "execution_count": null,
   "id": "62965939",
   "metadata": {},
   "outputs": [],
   "source": [
    "twos = [2 ** i for i in range(8)]\n",
    "print(twos)"
   ]
  },
  {
   "cell_type": "code",
   "execution_count": null,
   "id": "47070d19",
   "metadata": {},
   "outputs": [],
   "source": [
    "squares = []\n",
    "odds = [x for x in squares if x % 2 != 0 ]\n",
    "print (odds)\n",
    "\n",
    "# sama dengan\n",
    "odds = []\n",
    "for x in squares:\n",
    "    if x % 2 != 0:\n",
    "        odds.append(x)\n",
    "print (odds)"
   ]
  },
  {
   "cell_type": "code",
   "execution_count": null,
   "id": "a0f654c6",
   "metadata": {},
   "outputs": [],
   "source": [
    "# Contoh List di dalam List\n",
    "i = [2,3,4,5]\n",
    "print(i[0])\n",
    "\n",
    "k = [[3,5,1],[6,1,8],[9,10,4]]\n",
    "print(k)\n",
    "print(k[1])\n",
    "print(k[1][0])\n",
    "print(k[-1][-2:])"
   ]
  },
  {
   "cell_type": "code",
   "execution_count": null,
   "id": "fcbba043",
   "metadata": {},
   "outputs": [],
   "source": [
    "EMPTY = \"-\"\n",
    "board = []\n",
    "\n",
    "for i in range(8):\n",
    "    row = [EMPTY for i in range(8)] #membuat satu list\n",
    "    board.append(row) #membuat 8 list\n",
    "    print(row)\n",
    "#print(board)"
   ]
  },
  {
   "cell_type": "code",
   "execution_count": null,
   "id": "ecd2e1bd",
   "metadata": {},
   "outputs": [],
   "source": [
    "EMPTY = \"-\"\n",
    "LIMALIMA = \"LIMA\"\n",
    "ROOK = \"ROOK\"\n",
    "KNIGHT = \"KNIGHT\"\n",
    "PAWN = \"PAWN\"\n",
    "board = []\n",
    "\n",
    "for i in range(8):\n",
    "    row = [EMPTY for i in range(8)]\n",
    "    board.append(row)\n",
    "\n",
    "#isi dengan ROOK\n",
    "board[0][0] = ROOK\n",
    "board[5][5] = LIMALIMA\n",
    "board[0][7] = ROOK\n",
    "board[7][0] = ROOK\n",
    "board[7][7] = ROOK\n",
    "\n",
    "#isi dengan KNIGHT\n",
    "board[4][2] = KNIGHT\n",
    "\n",
    "#isi dengan PAWN\n",
    "board[3][4] = PAWN\n",
    "\n",
    "\n",
    "print(board)\n",
    "print(\"\\n\")"
   ]
  },
  {
   "cell_type": "code",
   "execution_count": null,
   "id": "0fcdd914",
   "metadata": {},
   "outputs": [],
   "source": [
    "temps = [[0.0 for h in range(2)] for d in range(4)]\n",
    "print (temps)"
   ]
  },
  {
   "cell_type": "code",
   "execution_count": null,
   "id": "b2cc1bb9",
   "metadata": {},
   "outputs": [],
   "source": [
    "temps = [[0.0 for h in range(24)] for d in range(31)]\n",
    "\n",
    "# 1. the monthly average noon temperature\n",
    "sum = 0.0\n",
    "\n",
    "for day in temps:\n",
    "    sum += day[11]\n",
    "\n",
    "average = sum / 31\n",
    "\n",
    "print(\"Average temperature at noon:\", average)\n",
    "\n",
    "# 2. the highest temperature during the whole month \n",
    "highest = -100.0\n",
    "\n",
    "for day in temps:\n",
    "    for temp in day:\n",
    "        if temp > highest:\n",
    "            highest = temp\n",
    "\n",
    "print(\"The highest temperature was:\", highest)\n",
    "\n",
    "# 3.count the days when the temperature at noon was at least 20 ℃\n",
    "hotDays = 0\n",
    "\n",
    "for day in temps:\n",
    "    if day[11] > 20.0:\n",
    "        hotDays += 1\n",
    "\n",
    "print(hotDays, \"days were hot.\")"
   ]
  },
  {
   "cell_type": "code",
   "execution_count": null,
   "id": "d64b844a",
   "metadata": {},
   "outputs": [],
   "source": [
    "rooms = [[[False for r in range(2)] for f in range(3)] for t in range(4)]\n",
    "print (rooms)"
   ]
  },
  {
   "cell_type": "code",
   "execution_count": null,
   "id": "bd1c0173",
   "metadata": {},
   "outputs": [],
   "source": [
    "rooms = [[[False for r in range(20)] for f in range(15)] for t in range(3)]\n",
    "\n",
    "rooms[1][9][13] = True\n",
    "rooms[0][4][1] = False\n",
    "\n",
    "print(rooms)\n",
    "\n",
    "vacancy = 0\n",
    "\n",
    "for roomNumber in range(20):\n",
    "    if not rooms[2][14][roomNumber]:\n",
    "        vacancy += 1\n",
    "        \n",
    "print(roomNumber)"
   ]
  }
 ],
 "metadata": {
  "kernelspec": {
   "display_name": "env",
   "language": "python",
   "name": "python3"
  },
  "language_info": {
   "codemirror_mode": {
    "name": "ipython",
    "version": 3
   },
   "file_extension": ".py",
   "mimetype": "text/x-python",
   "name": "python",
   "nbconvert_exporter": "python",
   "pygments_lexer": "ipython3",
   "version": "3.11.8"
  }
 },
 "nbformat": 4,
 "nbformat_minor": 5
}
